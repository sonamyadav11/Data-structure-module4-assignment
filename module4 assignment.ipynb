{
  "nbformat": 4,
  "nbformat_minor": 0,
  "metadata": {
    "colab": {
      "provenance": [],
      "authorship_tag": "ABX9TyPxXBtqKd2V57uZImJn9hgU",
      "include_colab_link": true
    },
    "kernelspec": {
      "name": "python3",
      "display_name": "Python 3"
    },
    "language_info": {
      "name": "python"
    }
  },
  "cells": [
    {
      "cell_type": "markdown",
      "metadata": {
        "id": "view-in-github",
        "colab_type": "text"
      },
      "source": [
        "<a href=\"https://colab.research.google.com/github/sonamyadav11/Data-structure-module4-assignment/blob/main/module4%20assignment.ipynb\" target=\"_parent\"><img src=\"https://colab.research.google.com/assets/colab-badge.svg\" alt=\"Open In Colab\"/></a>"
      ]
    },
    {
      "cell_type": "code",
      "execution_count": null,
      "metadata": {
        "colab": {
          "base_uri": "https://localhost:8080/"
        },
        "id": "ij8MlzMGVpjy",
        "outputId": "5119f7bc-5b21-4ce4-e38d-7003e078f0f0"
      },
      "outputs": [
        {
          "output_type": "stream",
          "name": "stdout",
          "text": [
            "enter stringsonam\n",
            "manos\n"
          ]
        }
      ],
      "source": [
        "# 1 Write a code to reverse a string\n",
        "str1=input(\"enter string\")\n",
        "rev=str1[::-1]\n",
        "print(rev)"
      ]
    },
    {
      "cell_type": "code",
      "source": [],
      "metadata": {
        "id": "7HcOJQESW8rq"
      },
      "execution_count": null,
      "outputs": []
    },
    {
      "cell_type": "code",
      "source": [
        "# 2 Write a code to count the number of vowels in a string\n",
        "\n",
        "str1=input(\"enter string\")\n",
        "str1.lower()\n",
        "count=0;\n",
        "for i in range(len(str1)):\n",
        "  if(str1[i]==\"a\"or str1[i]==\"e\"or str1[i]==\"i\"or str1[i]==\"o\"or str1[i]==\"u\"):\n",
        "    count=count+1\n",
        "print(count)"
      ],
      "metadata": {
        "colab": {
          "base_uri": "https://localhost:8080/"
        },
        "id": "BnPPZMvmY9EC",
        "outputId": "a3fddcfe-9237-462c-8af5-3482b390c47f"
      },
      "execution_count": null,
      "outputs": [
        {
          "output_type": "stream",
          "name": "stdout",
          "text": [
            "enter stringsonam\n",
            "2\n"
          ]
        }
      ]
    },
    {
      "cell_type": "code",
      "source": [
        "#  3 Write a code to check if a given string is a palindrome or not\n",
        "str1=input(\"enter string\")\n",
        "rev=str1[::-1]\n",
        "if(str1==rev):\n",
        "  print(\"string is pallindrome\")\n",
        "else:\n",
        "    print(\"string is not pallindrome\")"
      ],
      "metadata": {
        "colab": {
          "base_uri": "https://localhost:8080/"
        },
        "id": "YYgPm2vDZFtf",
        "outputId": "61e0eb93-f5ae-4031-8d9e-311b72730248"
      },
      "execution_count": null,
      "outputs": [
        {
          "output_type": "stream",
          "name": "stdout",
          "text": [
            "enter stringmom\n",
            "string is pallindrome\n"
          ]
        }
      ]
    },
    {
      "cell_type": "code",
      "source": [
        "# 4 Write a code to check if two given strings are anagrams of each other\n",
        "\n",
        "str1=input(\"enter string 1\")\n",
        "str2=input(\"enter string 2\")\n",
        "str1.lower()\n",
        "str2.lower()\n",
        "if(sorted(str1)==sorted(str2)):\n",
        "  print(\"string is anagram\")\n",
        "\n",
        "else:\n",
        "  print(\"string is  not anagram\")"
      ],
      "metadata": {
        "colab": {
          "base_uri": "https://localhost:8080/"
        },
        "id": "7HjzepmuZOU1",
        "outputId": "77ce0ea3-3369-4b6d-95d7-7dfbe76eac15"
      },
      "execution_count": null,
      "outputs": [
        {
          "output_type": "stream",
          "name": "stdout",
          "text": [
            "enter string 1sool\n",
            "enter string 2loos\n",
            "string is anagram\n"
          ]
        }
      ]
    },
    {
      "cell_type": "code",
      "source": [
        "# 5 Write a code to find all occurrences of a given substring within another string\n",
        "def find_occurence(stri1,substr):\n",
        "  occurence=[]\n",
        "  for i in range(len(stri1)):\n",
        "    if stri1.startswith(substr,i):\n",
        "      occurence.append(i)\n",
        "  return occurence\n",
        "stri1=input(\"enter string\")\n",
        "substr=input(\"enter substring\")\n",
        "print(find_occurence(stri1,substr))\n",
        "\n",
        "\n"
      ],
      "metadata": {
        "id": "Dt6pvzafZYNe",
        "colab": {
          "base_uri": "https://localhost:8080/"
        },
        "outputId": "318e53b5-5db5-415d-94a8-db67cc472f9b"
      },
      "execution_count": null,
      "outputs": [
        {
          "output_type": "stream",
          "name": "stdout",
          "text": [
            "enter stringabcabbb\n",
            "enter substringabc\n",
            "[0]\n"
          ]
        }
      ]
    },
    {
      "cell_type": "code",
      "source": [
        "# 6 Write a code to perform basic string compression using the counts of repeated characters\n",
        "\n",
        "str1=input(\"enter a string\")\n",
        "ans=\"\"\n",
        "count=1\n",
        "for i in range(len(str1)-1):\n",
        "  if(str1[i]==str1[i+1]):\n",
        "    count=count+1\n",
        "  else:\n",
        "    ans = ans+ str1[i]+str(count)\n",
        "    count=1\n",
        "ans += str1[-1] + str(count)\n",
        "print(ans)"
      ],
      "metadata": {
        "colab": {
          "base_uri": "https://localhost:8080/"
        },
        "id": "F5_vwGn4Yrhh",
        "outputId": "2300a9a8-1f63-436a-b015-31dd26d4ef7e"
      },
      "execution_count": null,
      "outputs": [
        {
          "output_type": "stream",
          "name": "stdout",
          "text": [
            "enter a stringaabb\n",
            "a2b2\n"
          ]
        }
      ]
    },
    {
      "cell_type": "code",
      "source": [
        "# 7 Write a code to determine if a string has all unique characters\n",
        "\n",
        "def uniqu(str1):\n",
        "  if len(str1)==len(set(str1)):\n",
        "    return(\"string has  all unique character\")\n",
        "  else:\n",
        "    return(\"string do not have all unique character\")\n",
        "str1=input(\"enter string\")\n",
        "print(uniqu(str1))\n"
      ],
      "metadata": {
        "id": "AoSs5DBVY8GV",
        "colab": {
          "base_uri": "https://localhost:8080/"
        },
        "outputId": "069e1940-d144-48d6-d55c-736ebc4b98a5"
      },
      "execution_count": null,
      "outputs": [
        {
          "output_type": "stream",
          "name": "stdout",
          "text": [
            "enter stringsonam\n",
            "string has  all unique character\n"
          ]
        }
      ]
    },
    {
      "cell_type": "code",
      "source": [
        "# 8  Write a code to convert a given string to uppercase or lowercase\n",
        "\n",
        "str1=input(\"enter a string\")\n",
        "print(str1.upper())\n",
        "print(str1.lower())\n"
      ],
      "metadata": {
        "id": "D5UUcHEwYeK3",
        "colab": {
          "base_uri": "https://localhost:8080/"
        },
        "outputId": "5f5a729a-8e1c-4fa1-b643-039fc4e026f4"
      },
      "execution_count": null,
      "outputs": [
        {
          "output_type": "stream",
          "name": "stdout",
          "text": [
            "enter a stringSonam\n",
            "SONAM\n",
            "sonam\n"
          ]
        }
      ]
    },
    {
      "cell_type": "code",
      "source": [
        "# 9 Write a code to count the number of words in a string\n",
        "\n",
        "str1=input(\"enter a string\")\n",
        "count=1\n",
        "for i in range(len(str1)):\n",
        "  if(str1[i]==\" \"):\n",
        "    count=count+1\n",
        "print(count)"
      ],
      "metadata": {
        "colab": {
          "base_uri": "https://localhost:8080/"
        },
        "id": "bdSE3rx-VLdl",
        "outputId": "ff20472f-69a1-4655-be70-a4511151e555"
      },
      "execution_count": null,
      "outputs": [
        {
          "output_type": "stream",
          "name": "stdout",
          "text": [
            "enter a stringhii i am sonam\n",
            "4\n"
          ]
        }
      ]
    },
    {
      "cell_type": "code",
      "source": [],
      "metadata": {
        "id": "3K_0W1IzYpx4"
      },
      "execution_count": null,
      "outputs": []
    },
    {
      "cell_type": "code",
      "source": [
        "# 10  Write a code to concatenate two strings without using the + operator\n",
        "str1= input(\"enter a string1\")\n",
        "str2= input(\"enter a string2\")\n",
        "ans= \"\".join([str1,str2])\n",
        "print(ans)"
      ],
      "metadata": {
        "colab": {
          "base_uri": "https://localhost:8080/"
        },
        "id": "TQLcjylxWDof",
        "outputId": "e21c8bcc-c538-4a61-aba4-bac2287136f9"
      },
      "execution_count": null,
      "outputs": [
        {
          "output_type": "stream",
          "name": "stdout",
          "text": [
            "enter a string1sonam\n",
            "enter a string2yadav\n",
            "sonamyadav\n"
          ]
        }
      ]
    },
    {
      "cell_type": "code",
      "source": [
        "# 11  Write a code to remove all occurrences of a specific element from a list\n",
        "lis=[\"sonam\",1,2,3,4]\n",
        "lis.remove(\"sonam\")\n",
        "print(lis)"
      ],
      "metadata": {
        "colab": {
          "base_uri": "https://localhost:8080/"
        },
        "id": "hYEmTQEEZVgb",
        "outputId": "8bee7a6f-1883-43ee-da0f-cee27cd8d0e6"
      },
      "execution_count": null,
      "outputs": [
        {
          "output_type": "stream",
          "name": "stdout",
          "text": [
            "[1, 2, 3, 4]\n"
          ]
        }
      ]
    },
    {
      "cell_type": "code",
      "source": [
        "# 12  Implement a code to find the second largest number in a given list of integers\n",
        "lis=[5,7,10,3,11]\n",
        "lis.sort()\n",
        "print(lis[-2])"
      ],
      "metadata": {
        "colab": {
          "base_uri": "https://localhost:8080/"
        },
        "id": "Kry7OFE9Zr3Z",
        "outputId": "6d33cef7-1da1-4581-b939-94133001e643"
      },
      "execution_count": null,
      "outputs": [
        {
          "output_type": "stream",
          "name": "stdout",
          "text": [
            "10\n"
          ]
        }
      ]
    },
    {
      "cell_type": "code",
      "source": [
        "# 13 Create a code to count the occurrences of each element in a list and return a dictionary with elements as keys and their counts as values\n",
        "lis=[\"hello\",1,2,1,1,3,4,\"hello\"]\n",
        "dic={}\n",
        "for i in lis:\n",
        "  dic[i]=lis.count(i)\n",
        "print(dic)"
      ],
      "metadata": {
        "colab": {
          "base_uri": "https://localhost:8080/"
        },
        "id": "Dyoyoch6Z_aO",
        "outputId": "a6ef430f-b683-4f50-8f7e-3cad42ba3e10"
      },
      "execution_count": null,
      "outputs": [
        {
          "output_type": "stream",
          "name": "stdout",
          "text": [
            "{'hello': 2, 1: 3, 2: 1, 3: 1, 4: 1}\n"
          ]
        }
      ]
    },
    {
      "cell_type": "code",
      "source": [
        "# 14 Write a code to reverse a list in-place without using any built-in reverse functions\n",
        "lis=[1,2,3,4,5]\n",
        "ans_list=[]\n",
        "i=len(lis)-1\n",
        "while i>=0:\n",
        "  ans_list.append(lis[i])\n",
        "  i=i-1\n",
        "print(ans_list)\n"
      ],
      "metadata": {
        "colab": {
          "base_uri": "https://localhost:8080/"
        },
        "id": "1yXJY2wIcKGl",
        "outputId": "44606d7a-6869-4ea0-a3c9-8bb117f6a7b3"
      },
      "execution_count": null,
      "outputs": [
        {
          "output_type": "stream",
          "name": "stdout",
          "text": [
            "[5, 4, 3, 2, 1]\n"
          ]
        }
      ]
    },
    {
      "cell_type": "code",
      "source": [
        "# 15  Implement a code to find and remove duplicates from a list while preserving the original order of elements\n",
        "lis=[1,1,2,3,4,2]\n",
        "unique_list=[]\n",
        "def remove_duplicate(lis):\n",
        "  for ele in lis:\n",
        "    if ele in unique_list:\n",
        "      continue\n",
        "    else:\n",
        "      unique_list.append(ele)\n",
        "  return unique_list\n",
        "\n",
        "result=remove_duplicate(lis)\n",
        "print(result)\n",
        "\n",
        "\n",
        "\n"
      ],
      "metadata": {
        "id": "nrSt8G-7dsNp",
        "colab": {
          "base_uri": "https://localhost:8080/"
        },
        "outputId": "b7e409fc-f1d1-4571-b58a-92612e5ebb17"
      },
      "execution_count": null,
      "outputs": [
        {
          "output_type": "stream",
          "name": "stdout",
          "text": [
            "[1, 2, 3, 4]\n"
          ]
        }
      ]
    },
    {
      "cell_type": "code",
      "source": [
        "#16  Create a code to check if a given list is sorted (either in ascending or descending order) or not\n",
        "lis=[5,6,7,8,1,2,19]\n",
        "ascen=lis.sort()\n",
        "desc=lis.sort(reverse=True)\n",
        "if lis==ascen:\n",
        "  print(\"list is sorted in ascending\")\n",
        "elif lis==desc:\n",
        "  print(\"list is sorted in descending\")\n",
        "else:\n",
        "  print(\"not sorted\")\n"
      ],
      "metadata": {
        "colab": {
          "base_uri": "https://localhost:8080/"
        },
        "id": "xxVW86_I_ktN",
        "outputId": "359654e2-986f-4844-b3f5-1f781feb1608"
      },
      "execution_count": null,
      "outputs": [
        {
          "output_type": "stream",
          "name": "stdout",
          "text": [
            "not sorted\n"
          ]
        }
      ]
    },
    {
      "cell_type": "code",
      "source": [
        "# 17 Write a code to merge two sorted lists into a single sorted list\n",
        "lis1=[1,2,5,6,7]\n",
        "lis2=[3,4,9,10,11]\n",
        "lis1.extend(lis2)\n",
        "print(\" after merging both list\",lis1)\n",
        "lis1.sort()\n",
        "print(\"after merging and sorting:\",lis1)"
      ],
      "metadata": {
        "colab": {
          "base_uri": "https://localhost:8080/"
        },
        "id": "WIInfZXlBzoC",
        "outputId": "57e97c0b-cc84-4e67-db68-cf2b3f0b8a5d"
      },
      "execution_count": null,
      "outputs": [
        {
          "output_type": "stream",
          "name": "stdout",
          "text": [
            " after merging both list [1, 2, 5, 6, 7, 3, 4, 9, 10, 11]\n",
            "after merging and sorting: [1, 2, 3, 4, 5, 6, 7, 9, 10, 11]\n"
          ]
        }
      ]
    },
    {
      "cell_type": "code",
      "source": [
        "# 18  Implement a code to find the intersection of two given lists\n",
        "\n",
        "lis1=[1,3,4,2,5]\n",
        "lis2=[2,3,4,10,11]\n",
        "intersec=[]\n",
        "\n",
        "def intersection_find(lis1,lis2):\n",
        "  for ele in lis1:\n",
        "    for ele1 in lis2:\n",
        "       if ele==ele1:\n",
        "        intersec.append(ele)\n",
        "       else:\n",
        "        continue\n",
        "  return intersec\n",
        "result= intersection_find(lis1,lis2)\n",
        "print(result)\n"
      ],
      "metadata": {
        "colab": {
          "base_uri": "https://localhost:8080/"
        },
        "id": "lMemeejYD1TU",
        "outputId": "ac9d0f86-4afd-4239-d3ff-b38beaeb8536"
      },
      "execution_count": null,
      "outputs": [
        {
          "output_type": "stream",
          "name": "stdout",
          "text": [
            "[3, 4, 2]\n"
          ]
        }
      ]
    },
    {
      "cell_type": "code",
      "source": [
        "# 19 Create a code to find the union of two lists without duplicates\n",
        "\n",
        "lis1=[1,4,5,3,7,8]\n",
        "lis2=[6,7,4,5,3,7]\n",
        "lis1.extend(lis2)\n",
        "union_list=[]\n",
        "for ele in lis1:\n",
        "  if ele not in union_list:\n",
        "    union_list.append(ele)\n",
        "  else:\n",
        "    continue\n",
        "print(union_list)"
      ],
      "metadata": {
        "colab": {
          "base_uri": "https://localhost:8080/"
        },
        "id": "sZ3tLYFcGt7g",
        "outputId": "44611cf1-3e53-40a6-a0f9-27f46818c8c2"
      },
      "execution_count": null,
      "outputs": [
        {
          "output_type": "stream",
          "name": "stdout",
          "text": [
            "[1, 4, 5, 3, 7, 8, 6]\n"
          ]
        }
      ]
    },
    {
      "cell_type": "code",
      "source": [
        "# 20  Write a code to shuffle a given list randomly without using any built-in shuffle functions\n",
        "import random\n",
        "\n",
        "def shuffle_list(lis):\n",
        "  n = len(lis)\n",
        "  for i in range(n-1,0,-1):\n",
        "    j = random.randint(0, i)\n",
        "    lis[i], lis[j] = lis[j], lis[i]\n",
        "  return lis\n",
        "\n",
        "\n",
        "my_list = [1, 2, 3, 4, 5]\n",
        "shuffled_list = shuffle_list(my_list)\n",
        "print(shuffled_list)\n"
      ],
      "metadata": {
        "colab": {
          "base_uri": "https://localhost:8080/"
        },
        "id": "0PgZIZPOKVWI",
        "outputId": "3aaa0bf0-b118-465b-b224-9df5fc1e6108"
      },
      "execution_count": null,
      "outputs": [
        {
          "output_type": "stream",
          "name": "stdout",
          "text": [
            "[5, 4, 1, 3, 2]\n"
          ]
        }
      ]
    },
    {
      "cell_type": "code",
      "source": [
        "# 21  Write a code that takes two tuples as input and returns a new tuple containing elements that are common to both input tuples\n",
        "tuple1=input(\"enter value spaced enter\")\n",
        "my_tuple1 = set(tuple1.split())\n",
        "tuple2=input(\"enter a spaced word\")\n",
        "my_tuple2=set(tuple2.split())\n",
        "common_element=(my_tuple1 & my_tuple2 )\n",
        "print(common_element)\n"
      ],
      "metadata": {
        "colab": {
          "base_uri": "https://localhost:8080/"
        },
        "id": "jjGlCuGoBaz8",
        "outputId": "0a35e61e-c701-4f14-abdc-15761251a37c"
      },
      "execution_count": null,
      "outputs": [
        {
          "output_type": "stream",
          "name": "stdout",
          "text": [
            "enter value spaced enter 1 2 3 4\n",
            "enter a spaced word2 3 5 6\n",
            "{'2', '3'}\n"
          ]
        }
      ]
    },
    {
      "cell_type": "code",
      "source": [
        "# 22 Create a code that prompts the user to enter two sets of integers separated by commas. Then, print the intersection of these two sets\n",
        "set1=input(\"enter comma sperated value\")\n",
        "set2=input(\"enter comma seperated value\")\n",
        "my_set1=set(set1.split(\",\"))\n",
        "my_set2=set(set2.split(\",\"))\n",
        "ans=(my_set1 & my_set2)\n",
        "print(ans)"
      ],
      "metadata": {
        "colab": {
          "base_uri": "https://localhost:8080/"
        },
        "id": "pJ0kCX6MLWf1",
        "outputId": "a66d2cd1-87ce-4864-df35-38c6caa22ec5"
      },
      "execution_count": null,
      "outputs": [
        {
          "output_type": "stream",
          "name": "stdout",
          "text": [
            "enter comma sperated value1,2,3,4\n",
            "enter comma seperated value5,6,3,2\n",
            "{'3', '2'}\n"
          ]
        }
      ]
    },
    {
      "cell_type": "code",
      "source": [
        "# 23 Write a code to concatenate two tuples. The function should take two tuples as input and return a new tuple containing elements from both input tuples\n",
        "tuple1=input(\"enter value spaced enter\")\n",
        "my_tuple1 = tuple(tuple1.split())\n",
        "tuple2=input(\"enter a spaced word\")\n",
        "my_tuple2=tuple(tuple2.split())\n",
        "ans=my_tuple1+my_tuple2\n",
        "print(ans)\n",
        "\n"
      ],
      "metadata": {
        "colab": {
          "base_uri": "https://localhost:8080/"
        },
        "id": "Dy7298FBEZcT",
        "outputId": "9a99de45-b427-4ac0-b0f6-31551fb58783"
      },
      "execution_count": null,
      "outputs": [
        {
          "output_type": "stream",
          "name": "stdout",
          "text": [
            "enter value spaced enter1 2 3 4 \n",
            "enter a spaced word\"apple\"  \"hello\"\n",
            "('1', '2', '3', '4', '\"apple\"', '\"hello\"')\n"
          ]
        }
      ]
    },
    {
      "cell_type": "code",
      "source": [
        "# 24 Develop a code that prompts the user to input two sets of strings. Then, print the elements that are\n",
        "#present in the first set but not in the second set\n",
        "\n",
        "set1=input(\"enter comma sperated value\")\n",
        "set2=input(\"enter comma seperated value\")\n",
        "my_set1=set(set1.split(\",\"))\n",
        "my_set2=set(set2.split(\",\"))\n",
        "ans=(my_set1 - my_set2)\n",
        "\n",
        "print(ans)\n",
        "\n"
      ],
      "metadata": {
        "colab": {
          "base_uri": "https://localhost:8080/"
        },
        "id": "IwmQGkfRG1eZ",
        "outputId": "b0457210-3aaf-40e3-e094-a1261f7a7145"
      },
      "execution_count": null,
      "outputs": [
        {
          "output_type": "stream",
          "name": "stdout",
          "text": [
            "enter comma sperated value\"a\",\"b\",\"c\"\n",
            "enter comma seperated value\"a\",\"b\"\n",
            "{'\"c\"'}\n"
          ]
        }
      ]
    },
    {
      "cell_type": "code",
      "source": [
        "# 25  Create a code that takes a tuple and two integers as input.\n",
        "#The function should return a new tuple containing elements from the original tuple within the specified range of indices\n",
        "tuple1=input(\"enter a value space seperated\")\n",
        "my_tuple=tuple(tuple1.split())\n",
        "a=input(\"enter a number1\")\n",
        "a=int(a)\n",
        "b=input(\"enter a number2\")\n",
        "b=int(b)\n",
        "ans=tuple(my_tuple[a:b])\n",
        "print(ans)"
      ],
      "metadata": {
        "colab": {
          "base_uri": "https://localhost:8080/"
        },
        "id": "i-ujCs3lLTgI",
        "outputId": "76fa5130-4d15-4688-fe5e-f2bb3e635402"
      },
      "execution_count": null,
      "outputs": [
        {
          "output_type": "stream",
          "name": "stdout",
          "text": [
            "enter a value space seperated1 2 3 4 5\n",
            "enter a number12\n",
            "enter a number24\n",
            "('3', '4')\n"
          ]
        }
      ]
    },
    {
      "cell_type": "code",
      "source": [
        "# 26 Write a code that prompts the user to input two sets of characters. Then, print the union of these two sets\n",
        "set1=input(\"enter comma sperated value\")\n",
        "set2=input(\"enter comma seperated value\")\n",
        "my_set1=set(set1.split(\",\"))\n",
        "my_set2=set(set2.split(\",\"))\n",
        "ans=(my_set1 | my_set2)\n",
        "print(ans)"
      ],
      "metadata": {
        "colab": {
          "base_uri": "https://localhost:8080/"
        },
        "id": "tkAtcemMQ0dy",
        "outputId": "e309b8f5-c4ae-433f-c710-78061c88709f"
      },
      "execution_count": null,
      "outputs": [
        {
          "output_type": "stream",
          "name": "stdout",
          "text": [
            "enter comma sperated value\"a\",\"b\",\"c\"\n",
            "enter comma seperated value\"a\",\"d\"\n",
            "{'\"b\"', '\"c\"', '\"d\"', '\"a\"'}\n"
          ]
        }
      ]
    },
    {
      "cell_type": "code",
      "source": [
        "# 27  Develop a code that takes a tuple of integers as input. The function should return the maximum and minimum values from the tuple using tuple unpackin\n",
        "number=input(\"enter a number space sprerated\")\n",
        "number=tuple(number.split())\n",
        "min_val=min(number)\n",
        "max_val=max(number)\n",
        "print(\"min value is:\",min_val,\"\\n\",\"max value is:\",max_val)\n",
        "\n"
      ],
      "metadata": {
        "colab": {
          "base_uri": "https://localhost:8080/"
        },
        "id": "kYaGRC0oRygl",
        "outputId": "62184cfd-3234-49ac-fa06-d526676904b3"
      },
      "execution_count": null,
      "outputs": [
        {
          "output_type": "stream",
          "name": "stdout",
          "text": [
            "enter a number space sprerated1 2 3 4 5\n",
            "min value is: 1 \n",
            " max value is: 5\n"
          ]
        }
      ]
    },
    {
      "cell_type": "code",
      "source": [
        "# 28  Create a code that defines two sets of integers. Then, print the union, intersection, and difference of these two set\n",
        "set1=input(\"enter comma space value\")\n",
        "set2=input(\"enter comma space value\")\n",
        "my_set1=set(set1.split())\n",
        "my_set2=set(set2.split())\n",
        "union_set= set(my_set1 |my_set2)\n",
        "diff=set(my_set1 - my_set2)\n",
        "intersection=set(my_set1 & my_set2)\n",
        "print(\"union of set is :\",union_set)\n",
        "print(\"difference  of set is :\",diff)\n",
        "print(\"intersection of set is :\",intersection)"
      ],
      "metadata": {
        "colab": {
          "base_uri": "https://localhost:8080/"
        },
        "id": "-DwVtYRqUzHL",
        "outputId": "c2c15901-d37f-453f-b60f-31c3e584a7ec"
      },
      "execution_count": null,
      "outputs": [
        {
          "output_type": "stream",
          "name": "stdout",
          "text": [
            "enter comma space value1 2 3 4 5 6\n",
            "enter comma space value3 4 5 6 7 8 9\n",
            "union of set is : {'1', '6', '9', '2', '7', '3', '4', '5', '8'}\n",
            "difference  of set is : {'2', '1'}\n",
            "intersection of set is : {'3', '6', '4', '5'}\n"
          ]
        }
      ]
    },
    {
      "cell_type": "code",
      "source": [
        "# 29  Write a code that takes a tuple and an element as input. The function should return the count of occurrences of the given element in the tupl\n",
        "number=input(\"enter a number space sprerated\")\n",
        "number=tuple(number.split())\n",
        "element=input(\"element\")\n",
        "ans=number.count(element)\n",
        "print(\"count of element is:\",ans)\n",
        "\n"
      ],
      "metadata": {
        "colab": {
          "base_uri": "https://localhost:8080/"
        },
        "id": "dkdXgCsXWp6t",
        "outputId": "97b97bb2-cb1f-4df6-95c8-708cb2548c64"
      },
      "execution_count": null,
      "outputs": [
        {
          "output_type": "stream",
          "name": "stdout",
          "text": [
            "enter a number space sprerated1 2 2 22 2 2 2 2\n",
            "element2\n",
            "count of element is: 6\n"
          ]
        }
      ]
    },
    {
      "cell_type": "code",
      "source": [
        "# 30 Develop a code that prompts the user to input two sets of strings. Then, print the symmetric difference of these two set\n",
        "set1=input(\"enter space value\")\n",
        "set2=input(\"enter space value\")\n",
        "my_set1=set(set1.split())\n",
        "my_set2=set(set2.split())\n",
        "ans=(my_set1 ^ my_set2)\n",
        "print(\"symmetric diff is:\",ans)\n",
        "\n"
      ],
      "metadata": {
        "colab": {
          "base_uri": "https://localhost:8080/"
        },
        "id": "JNdfceE4Zcck",
        "outputId": "25860098-ecd4-443a-ceca-4e88f5932cd3"
      },
      "execution_count": null,
      "outputs": [
        {
          "output_type": "stream",
          "name": "stdout",
          "text": [
            "enter space value1 2 3 4 5\n",
            "enter space value2 3 7 8 9\n",
            "symmetric diff is: {'4', '1', '5', '8', '9', '7'}\n"
          ]
        }
      ]
    },
    {
      "cell_type": "code",
      "source": [
        "# 31  Write a code that takes a list of words as input and returns a dictionary where the keys are unique words and the values are the frequencies of those words in the input list\n",
        "def word_frequencies(word_list):\n",
        "  word_freq = {}\n",
        "  for word in word_list:\n",
        "    word_freq[word] = word_freq.get(word, 0) + 1\n",
        "  return word_freq\n",
        "\n",
        "\n",
        "words = [\"apple\", \"banana\", \"apple\", \"orange\", \"banana\", \"apple\"]\n",
        "frequencies = word_frequencies(words)\n",
        "print(frequencies)\n"
      ],
      "metadata": {
        "colab": {
          "base_uri": "https://localhost:8080/"
        },
        "id": "3ZmnhTNdUjbN",
        "outputId": "457decaa-3daa-4675-d0cb-5726d86013ae"
      },
      "execution_count": 1,
      "outputs": [
        {
          "output_type": "stream",
          "name": "stdout",
          "text": [
            "{'apple': 3, 'banana': 2, 'orange': 1}\n"
          ]
        }
      ]
    },
    {
      "cell_type": "code",
      "source": [
        "# 32  Write a code that takes two dictionaries as input and merges them into a single dictionary. If there are common keys, the values should be added together\n",
        "def merge_dictionaries(dict1, dict2):\n",
        "  merged_dict = dict1.copy()\n",
        "  for key, value in dict2.items():\n",
        "    if key in merged_dict:\n",
        "      merged_dict[key] += value\n",
        "    else:\n",
        "      merged_dict[key] = value\n",
        "  return merged_dict\n",
        "\n",
        "\n",
        "dict1 = {'a': 1, 'b': 2, 'c': 3}\n",
        "dict2 = {'b': 4, 'd': 5}\n",
        "merged_dict = merge_dictionaries(dict1, dict2)\n",
        "print(merged_dict)"
      ],
      "metadata": {
        "colab": {
          "base_uri": "https://localhost:8080/"
        },
        "id": "HO0JyTrAUjpk",
        "outputId": "681e4884-753c-4169-e4b9-740556c100ba"
      },
      "execution_count": 2,
      "outputs": [
        {
          "output_type": "stream",
          "name": "stdout",
          "text": [
            "{'a': 1, 'b': 6, 'c': 3, 'd': 5}\n"
          ]
        }
      ]
    },
    {
      "cell_type": "code",
      "source": [
        "# 33  Write a code to access a value in a nested dictionary. The function should take the dictionary and a list of keys as input, and return the corresponding value.\n",
        "# If any of the keys do not exist in the dictionary, thefunction should return None\n",
        "def get_nested_value(data, keys):\n",
        "\n",
        "  current_level = data\n",
        "  for key in keys:\n",
        "    if isinstance(current_level, dict) and key in current_level:\n",
        "      current_level = current_level[key]\n",
        "    else:\n",
        "      return None\n",
        "  return current_level\n",
        "\n",
        "\n",
        "nested_dict = {'a': {'b': {'c': 10}}}\n",
        "keys = ['a', 'b', 'c']\n",
        "value = get_nested_value(nested_dict, keys)\n",
        "print(value)\n",
        "\n",
        "keys = ['a', 'x', 'c']\n",
        "value = get_nested_value(nested_dict, keys)\n",
        "print(value)"
      ],
      "metadata": {
        "colab": {
          "base_uri": "https://localhost:8080/"
        },
        "id": "yztdnGaMUj2f",
        "outputId": "e35219b1-db91-4c9a-deb9-2a65e5315207"
      },
      "execution_count": 3,
      "outputs": [
        {
          "output_type": "stream",
          "name": "stdout",
          "text": [
            "10\n",
            "None\n"
          ]
        }
      ]
    },
    {
      "cell_type": "code",
      "source": [
        "# 34  Write a code that takes a dictionary as input and returns a sorted version of it based on the values. You\n",
        "#can choose whether to sort in ascending or descending order\n",
        "\n",
        "def sort_dictionary_by_values(input_dict):\n",
        "\n",
        "  return dict(sorted(input_dict.items(), key=lambda item: item[1]))\n",
        "\n",
        "# Example usage:\n",
        "my_dict = {'apple': 3, 'banana': 1, 'orange': 2}\n",
        "\n",
        "sorted_dict_asc = sort_dictionary_by_values(my_dict)\n",
        "print(sorted_dict_asc)\n",
        "\n",
        "\n"
      ],
      "metadata": {
        "colab": {
          "base_uri": "https://localhost:8080/"
        },
        "id": "liFFEIJ1UkEG",
        "outputId": "bb1314ec-5620-453f-b3b4-e4fae51b824a"
      },
      "execution_count": 8,
      "outputs": [
        {
          "output_type": "stream",
          "name": "stdout",
          "text": [
            "{'banana': 1, 'orange': 2, 'apple': 3}\n"
          ]
        }
      ]
    },
    {
      "cell_type": "code",
      "source": [
        "# 35Write a code that inverts a dictionary, swapping keys and values. Ensure that the inverted dictionary\n",
        "#correctly handles cases where multiple keys have the same value by storing the keys as a list in the\n",
        "#inverted dictionary.\n",
        "\n",
        "def invert_dictionary(input_dict):\n",
        "    inverted_dict = {}\n",
        "\n",
        "    for key, value in input_dict.items():\n",
        "        if value in inverted_dict:\n",
        "\n",
        "            inverted_dict[value].append(key)\n",
        "        else:\n",
        "\n",
        "            inverted_dict[value] = [key]\n",
        "\n",
        "    return inverted_dict\n",
        "\n",
        "\n",
        "input_dict = {'a': 1, 'b': 2, 'c': 1, 'd': 3, 'e': 2}\n",
        "\n",
        "inverted_dict = invert_dictionary(input_dict)\n",
        "print(inverted_dict)\n"
      ],
      "metadata": {
        "colab": {
          "base_uri": "https://localhost:8080/"
        },
        "id": "eXZnwRSIUkSt",
        "outputId": "f47087dd-6c06-41b9-e9d7-84203eb99505"
      },
      "execution_count": 9,
      "outputs": [
        {
          "output_type": "stream",
          "name": "stdout",
          "text": [
            "{1: ['a', 'c'], 2: ['b', 'e'], 3: ['d']}\n"
          ]
        }
      ]
    }
  ]
}